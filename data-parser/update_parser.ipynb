{
 "cells": [
  {
   "cell_type": "code",
   "execution_count": null,
   "metadata": {},
   "outputs": [],
   "source": [
    "from pypdf import PdfReader\n",
    "\n",
    "reader = PdfReader(\"klima-update.pdf\")\n",
    "def read_pages(reader, pages):\n",
    "    text = \"\"\n",
    "    for page in pages:\n",
    "        pdf_page = reader.pages[page]\n",
    "        text += pdf_page.extract_text(extraction_mode=\"layout\", layout_mode_strip_rotated=False)\n",
    "    return text\n",
    "\n",
    "print(read_pages(reader, list(range(2, 14))))"
   ]
  },
  {
   "cell_type": "code",
   "execution_count": null,
   "metadata": {},
   "outputs": [],
   "source": [
    "from langchain_openai import AzureChatOpenAI\n",
    "\n",
    "client = AzureChatOpenAI(\n",
    "  openai_api_version=\"2024-02-01\",\n",
    "  deployment_name=\"...\",\n",
    "  azure_endpoint=\"...\",\n",
    "  api_key=\"...\",\n",
    "  model_name=\"gpt-4o\"\n",
    ")"
   ]
  },
  {
   "cell_type": "code",
   "execution_count": 73,
   "metadata": {},
   "outputs": [],
   "source": [
    "from typing import List\n",
    "from pydantic import BaseModel, Field\n",
    "\n",
    "class MeasureUpdateForecast(BaseModel):\n",
    "    year: int\n",
    "    value: float\n",
    "\n",
    "class MeasureUpdateData(BaseModel):\n",
    "    title: str\n",
    "    text_updates: List[str]\n",
    "    forecasts: List[MeasureUpdateForecast]\n",
    "    forecasts_of_costs: List[MeasureUpdateForecast]\n",
    "\n",
    "class MeasureUpdateDataList(BaseModel):\n",
    "    updates: List[MeasureUpdateData]"
   ]
  },
  {
   "cell_type": "code",
   "execution_count": 86,
   "metadata": {},
   "outputs": [],
   "source": [
    "from langchain_core.prompts import ChatPromptTemplate, MessagesPlaceholder\n",
    "prompt = ChatPromptTemplate.from_messages(\n",
    "    [\n",
    "        (\n",
    "            \"system\",\n",
    "            \"You are an expert extraction algorithm. \"\n",
    "            \"Only extract relevant information from the text. \"\n",
    "            \"If you do not know the value of an attribute asked to extract, \"\n",
    "            \"return null for the attribute's value.\"\n",
    "            \"If there are no forecasts or forecasts of costs, return an empty list for the attribute's value.\"\n",
    "            \"Ensure that the years for the forecasts are correct.\",\n",
    "        ),\n",
    "        # Please see the how-to about improving performance with\n",
    "        # reference examples.\n",
    "        # MessagesPlaceholder('examples'),\n",
    "        (\"human\", \"{text}\"),\n",
    "    ]\n",
    ")\n",
    "\n",
    "runnable = prompt | client.with_structured_output(schema=MeasureUpdateDataList)\n"
   ]
  },
  {
   "cell_type": "code",
   "execution_count": 87,
   "metadata": {},
   "outputs": [],
   "source": [
    "energieerzeugung_text = read_pages(reader, list(range(2, 14)))\n"
   ]
  },
  {
   "cell_type": "code",
   "execution_count": 88,
   "metadata": {},
   "outputs": [],
   "source": [
    "results = runnable.invoke({\"text\": energieerzeugung_text})"
   ]
  },
  {
   "cell_type": "code",
   "execution_count": null,
   "metadata": {},
   "outputs": [],
   "source": [
    "print(results.updates)"
   ]
  }
 ],
 "metadata": {
  "kernelspec": {
   "display_name": "Python 3",
   "language": "python",
   "name": "python3"
  },
  "language_info": {
   "codemirror_mode": {
    "name": "ipython",
    "version": 3
   },
   "file_extension": ".py",
   "mimetype": "text/x-python",
   "name": "python",
   "nbconvert_exporter": "python",
   "pygments_lexer": "ipython3",
   "version": "3.12.5"
  }
 },
 "nbformat": 4,
 "nbformat_minor": 2
}
